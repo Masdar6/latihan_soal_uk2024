{
 "cells": [
  {
   "cell_type": "markdown",
   "metadata": {},
   "source": [
    "Buatlah sebuah program untuk menjumlahkan angka, yang dimana angka awal dan angka akhir ditentukan oleh keyboard.\n",
    " \n",
    "Contoh\n",
    "A = 1\n",
    "B = 5\n",
    "Output\n",
    "1+2+3+4+5 = 15"
   ]
  },
  {
   "cell_type": "code",
   "execution_count": 4,
   "metadata": {},
   "outputs": [
    {
     "name": "stdout",
     "output_type": "stream",
     "text": [
      "1+2+3+4+5 = 15\n"
     ]
    }
   ],
   "source": [
    "# def sum_of_numbers(A, B):\n",
    "#     total = 0\n",
    "#     for number in range(A, B + 1):\n",
    "#         total += number\n",
    "#     return total\n",
    "\n",
    "# A = int(input(\"Masukkan angka awal (A): \"))\n",
    "# B = int(input(\"Masukkan angka akhir (B): \"))\n",
    "\n",
    "\n",
    "# result = sum_of_numbers(A, B)\n",
    "\n",
    "# print(f\"Jumlah dari {A} hingga {B} adalah {result}\")\n",
    "\n",
    "def sum_of_numbers(A, B):\n",
    "    total = 0\n",
    "    expression = \"\"\n",
    "    for number in range(A, B + 1):\n",
    "        total += number\n",
    "        if number == A:\n",
    "            expression += str(number)\n",
    "        else:\n",
    "            expression += f\"+{number}\"\n",
    "    return expression, total\n",
    "\n",
    "A = int(input(\"Masukkan angka awal (A): \"))\n",
    "B = int(input(\"Masukkan angka akhir (B): \"))\n",
    "\n",
    "\n",
    "expression, result = sum_of_numbers(A, B)\n",
    "\n",
    "\n",
    "print(f\"{expression} = {result}\")\n",
    "\n"
   ]
  },
  {
   "cell_type": "markdown",
   "metadata": {},
   "source": [
    "Buat program yang memasukkan sebuah nama. Jika nama sendiri diinput program akan berhenti. Jika tidak, program akan meminta terus inputan"
   ]
  },
  {
   "cell_type": "code",
   "execution_count": 1,
   "metadata": {},
   "outputs": [
    {
     "name": "stdout",
     "output_type": "stream",
     "text": [
      "itu bukan nama anda jadi lanjut input\n",
      "itu bukan nama anda jadi lanjut input\n",
      "itu bukan nama anda jadi lanjut input\n",
      "nama anda adalah masdar maka program berhenti\n"
     ]
    }
   ],
   "source": [
    "while  True:\n",
    "    nama = input(\"masukkan nama : \")\n",
    "\n",
    "    if nama == \"masdar\":\n",
    "        print(\"nama anda adalah masdar maka program berhenti\")\n",
    "        break\n",
    "    else:\n",
    "        print(\"itu bukan nama anda jadi lanjut input\")"
   ]
  },
  {
   "cell_type": "markdown",
   "metadata": {},
   "source": [
    "Buatlah array yg menampung minimal 10 nama hewan dengan ketentuan sebagai berikut:\n",
    "\n",
    "1. Hapus index ke 3\n",
    "2. Tambah 1 nama hewan\n",
    "3. Tampilkan nama hewan index ke 8"
   ]
  },
  {
   "cell_type": "code",
   "execution_count": 21,
   "metadata": {},
   "outputs": [
    {
     "name": "stdout",
     "output_type": "stream",
     "text": [
      "['Kucing', 'Anjing', 'Gajah', 'Harimau', 'Zebra', 'Kuda', 'Jerapah', 'Badak', 'Kangguru']\n",
      "['Kucing', 'Anjing', 'Gajah', 'Harimau', 'Zebra', 'Kuda', 'Jerapah', 'Badak', 'Kangguru', 'panda']\n",
      "Kangguru\n"
     ]
    }
   ],
   "source": [
    "# Membuat array dengan minimal 10 nama hewan\n",
    "hewan = [\"Kucing\", \"Anjing\", \"Gajah\", \"Singa\", \"Harimau\", \"Zebra\", \"Kuda\", \"Jerapah\", \"Badak\", \"Kangguru\"]\n",
    "del hewan[3]\n",
    "print(hewan)\n",
    "tambah = hewan.append(\"panda\")\n",
    "print(hewan)\n",
    "tampilkan = hewan[8]\n",
    "print(tampilkan)"
   ]
  },
  {
   "cell_type": "markdown",
   "metadata": {},
   "source": [
    "Buatlah sebuah function yang menerima dua argumen: gaji pokok dan performance penilaian kinerja. Fungsi ini harus mengeluarkan total gaji dengan ketentuan bonus sebagai berikut:\n",
    "\n",
    "- Jika performance >= 70 dan < 90, bonus 10% dari gaji pokok\n",
    "\n",
    "- Jika performance < 70, tidak ada bonus\n",
    "\n",
    "- Jika performance >= 90, bonus 20% dari gaji pokok"
   ]
  },
  {
   "cell_type": "code",
   "execution_count": 30,
   "metadata": {},
   "outputs": [
    {
     "name": "stdout",
     "output_type": "stream",
     "text": [
      "Total gaji adalah: 5500.0\n"
     ]
    }
   ],
   "source": [
    "# def hitung_total_gaji(gaji, performance):\n",
    "#     if 70 <= performance <90:\n",
    "#         bonus = 0.10 * gaji\n",
    "#     elif performance >= 90:\n",
    "#         bonus = 0.20 * gaji\n",
    "#     else:\n",
    "#         bonus = 0.00\n",
    "\n",
    "#     total_gaji = gaji * bonus\n",
    "\n",
    "#     return total_gaji\n",
    "\n",
    "# gaji = float(input(\"masukkan gaji pokok : \"))\n",
    "# performance = float(input(\"masukkan performance : \"))\n",
    "\n",
    "# total_gaji = hitung_total_gaji(gaji, performance)\n",
    "# print(f\"total gaji adalah : {total_gaji}\")\n",
    "\n",
    "def hitung_total_gaji(gaji_pokok, performance):\n",
    "    # Menghitung bonus berdasarkan penilaian kinerja\n",
    "    if 70 <= performance < 90:\n",
    "        bonus = 0.10 * gaji_pokok\n",
    "    elif performance >= 90:\n",
    "        bonus = 0.20 * gaji_pokok\n",
    "    else:\n",
    "        bonus = 0.00\n",
    "    \n",
    "    # Menghitung total gaji\n",
    "    total_gaji = gaji_pokok + bonus\n",
    "    \n",
    "    return total_gaji\n",
    "\n",
    "# Contoh penggunaan fungsi\n",
    "gaji_pokok = float(input(\"Masukkan gaji pokok: \"))\n",
    "performance = float(input(\"Masukkan nilai performance: \"))\n",
    "\n",
    "total_gaji = hitung_total_gaji(gaji_pokok, performance)\n",
    "print(f\"Total gaji adalah: {total_gaji}\")\n"
   ]
  },
  {
   "cell_type": "markdown",
   "metadata": {},
   "source": [
    "Buat sebuah daftar berisi angka acak: [23, 1, 34, 56, 78, 2, 45, 67].\n",
    "Temukan dan cetak elemen maksimum dan minimum dalam daftar tersebut."
   ]
  },
  {
   "cell_type": "code",
   "execution_count": 31,
   "metadata": {},
   "outputs": [
    {
     "name": "stdout",
     "output_type": "stream",
     "text": [
      "angka maksimun : 78\n",
      "angka minimun : 1\n"
     ]
    }
   ],
   "source": [
    "angka = [23, 1, 34, 56, 78, 2, 45, 67]\n",
    "\n",
    "angka_maksimun = max(angka)\n",
    "angka_minimun = min(angka)\n",
    "\n",
    "print(f\"angka maksimun : {angka_maksimun}\")\n",
    "print(f\"angka minimun : {angka_minimun}\")"
   ]
  },
  {
   "cell_type": "markdown",
   "metadata": {},
   "source": [
    "Buat sebuah daftar yang berisi nilai ujian siswa: .[70, 85, 90, 100, 65, 80, 95]\n",
    "Hitung dan cetak rata-rata nilai ujian tersebut."
   ]
  },
  {
   "cell_type": "code",
   "execution_count": 32,
   "metadata": {},
   "outputs": [
    {
     "name": "stdout",
     "output_type": "stream",
     "text": [
      "rata rata nilainya adalah : 83.57142857142857\n"
     ]
    }
   ],
   "source": [
    "nilai = [70, 85, 90, 100, 65, 80, 95]\n",
    "\n",
    "rata_rata_nilai = sum(nilai) / len(nilai)\n",
    "\n",
    "print(f\"rata rata nilainya adalah : {rata_rata_nilai}\")"
   ]
  },
  {
   "cell_type": "markdown",
   "metadata": {},
   "source": [
    "Buatlah inputan yang menerima angka sebanyak n kali, jika angka yang di inputkan adalah bilangan ganjil dia akan ditampung kedalam array jika yang di inputkan adalah bilangan genap program akan berhenti dan cetak nilai array nya"
   ]
  },
  {
   "cell_type": "code",
   "execution_count": 38,
   "metadata": {},
   "outputs": [
    {
     "name": "stdout",
     "output_type": "stream",
     "text": [
      "[3]\n",
      "[3, 5]\n",
      "[3, 5, 7]\n",
      "[3, 5, 7, 9]\n",
      "[3, 5, 7, 9, 11]\n"
     ]
    }
   ],
   "source": [
    "def input_angka():\n",
    "    angka_ganjil = []\n",
    "    while True:\n",
    "        angka = int(input(\"Masukkan angka: \"))\n",
    "        if angka % 2 == 1: \n",
    "            angka_ganjil.append(angka)\n",
    "            print(angka_ganjil)\n",
    "        else:\n",
    "            break\n",
    "    return angka_ganjil\n",
    "\n",
    "hasil = input_angka()"
   ]
  },
  {
   "cell_type": "markdown",
   "metadata": {},
   "source": [
    "\n",
    "buah = [\n",
    "    [\"Jeruk\", [\"Apel\", \"Anggur\"]],\n",
    "    [\"Sawo\", [\"Kelapa\", 1, 60, [[\"Nabila\", \"Mamnun\", 500], 100, 200, \"Fyan\", \"Ramadhan\"]]]\n",
    "]\n",
    "Tampilkan Kelapa, 500 dan Fyan"
   ]
  },
  {
   "cell_type": "code",
   "execution_count": 41,
   "metadata": {},
   "outputs": [
    {
     "name": "stdout",
     "output_type": "stream",
     "text": [
      "Kelapa 500 Fyan\n"
     ]
    }
   ],
   "source": [
    "buah = [\n",
    "    [\"Jeruk\", [\"Apel\", \"Anggur\"]],\n",
    "    [\"Sawo\", [\"Kelapa\", 1, 60, [[\"Nabila\", \"Mamnun\", 500], 100, 200, \"Fyan\", \"Ramadhan\"]]]\n",
    "]\n",
    "\n",
    "lima_ratus = buah[1][1][3][0][2]\n",
    "fyan = buah[1][1][3][3]\n",
    "\n",
    "print(kelapa, lima_ratus, fyan)\n"
   ]
  },
  {
   "cell_type": "markdown",
   "metadata": {},
   "source": [
    "Soal 2: Perbandingan Gaji Karyawan\n",
    "Dalam sebuah perusahaan, ada dua karyawan dengan gaji bulanan sebagai berikut:\n",
    "Karyawan A: Rp 7.000.000\n",
    "Karyawan B: Rp 8.500.000\n",
    "Tulis sebuah program dalam bahasa Python yang menentukan siapa yang memiliki gaji lebih besar dan menghitung selisih gaji mereka."
   ]
  },
  {
   "cell_type": "code",
   "execution_count": 43,
   "metadata": {},
   "outputs": [
    {
     "name": "stdout",
     "output_type": "stream",
     "text": [
      "Karyawan B memiliki gaji lebih besar daripada yang lain.\n",
      "Selisih gaji mereka adalah Rp 1,500,000.\n"
     ]
    }
   ],
   "source": [
    "gaji_karyawan_A = 7000000\n",
    "gaji_karyawan_B = 8500000\n",
    "\n",
    "if gaji_karyawan_A > gaji_karyawan_B:\n",
    "    karyawan_dengan_gaji_lebih_besar = \"Karyawan A\"\n",
    "    selisih_gaji = gaji_karyawan_A - gaji_karyawan_B\n",
    "elif gaji_karyawan_B > gaji_karyawan_A:\n",
    "    karyawan_dengan_gaji_lebih_besar = \"Karyawan B\"\n",
    "    selisih_gaji = gaji_karyawan_B - gaji_karyawan_A\n",
    "else:\n",
    "    karyawan_dengan_gaji_lebih_besar = \"Karyawan A dan Karyawan B\"\n",
    "    selisih_gaji = 0\n",
    "\n",
    "if karyawan_dengan_gaji_lebih_besar == \"Karyawan A dan Karyawan B\":\n",
    "    print(\"Kedua karyawan memiliki gaji yang sama.\")\n",
    "else:\n",
    "    print(f\"{karyawan_dengan_gaji_lebih_besar} memiliki gaji lebih besar daripada yang lain.\")\n",
    "    print(f\"Selisih gaji mereka adalah Rp {selisih_gaji:,}.\")\n"
   ]
  },
  {
   "cell_type": "markdown",
   "metadata": {},
   "source": [
    "Soal 3: Diskon Harga Produk\n",
    "Sebuah toko memberikan diskon sebesar 20% untuk semua produknya. Jika harga awal sebuah produk adalah Rp 200.000, hitung harga akhir setelah diskon dengan menggunakan sebuah fungsi Python. Bandingkan harga awal dan harga akhir, kemudian tampilkan pesan yang menyatakan harga mana yang lebih besar."
   ]
  },
  {
   "cell_type": "code",
   "execution_count": 44,
   "metadata": {},
   "outputs": [
    {
     "name": "stdout",
     "output_type": "stream",
     "text": [
      "Harga awal lebih besar daripada harga akhir setelah diskon.\n"
     ]
    }
   ],
   "source": [
    "def hitung_harga_akhir(harga_awal):\n",
    "    diskon = 0.20  \n",
    "    harga_diskon = harga_awal * (1 - diskon)\n",
    "    return harga_diskon\n",
    "\n",
    "harga_awal = 200000\n",
    "\n",
    "harga_akhir = hitung_harga_akhir(harga_awal)\n",
    "\n",
    "if harga_akhir > harga_awal:\n",
    "    print(\"Harga akhir setelah diskon lebih besar daripada harga awal.\")\n",
    "elif harga_akhir < harga_awal:\n",
    "    print(\"Harga awal lebih besar daripada harga akhir setelah diskon.\")\n",
    "else:\n",
    "    print(\"Harga awal sama dengan harga akhir setelah diskon.\")\n"
   ]
  },
  {
   "cell_type": "markdown",
   "metadata": {},
   "source": [
    "Soal 4: Perbandingan Luas Lingkaran dan Persegi\n",
    "Buatlah dua fungsi dalam Python: satu untuk menghitung luas lingkaran (luas_lingkaran(r)) dengan jari-jari r, dan satu untuk menghitung luas persegi (luas_persegi(s)) dengan sisi s. Kemudian, buat program yang membandingkan luas lingkaran dengan jari-jari 7 cm dan luas persegi dengan sisi 10 cm. Tampilkan hasil perbandingan tersebut."
   ]
  },
  {
   "cell_type": "code",
   "execution_count": 46,
   "metadata": {},
   "outputs": [
    {
     "name": "stdout",
     "output_type": "stream",
     "text": [
      "Luas lingkaran dengan jari-jari 7 cm lebih besar dari luas persegi dengan sisi 10 cm.\n"
     ]
    }
   ],
   "source": [
    "import math\n",
    "\n",
    "def luas_lingkaran(r):\n",
    "    return math.pi * r**2\n",
    "\n",
    "def luas_persegi(s):\n",
    "    return s**2\n",
    "\n",
    "# Menghitung luas lingkaran dengan jari-jari 7 cm\n",
    "luas_lingkaran_7cm = luas_lingkaran(7)\n",
    "\n",
    "# Menghitung luas persegi dengan sisi 10 cm\n",
    "luas_persegi_10cm = luas_persegi(10)\n",
    "\n",
    "# Membandingkan luas lingkaran dan luas persegi\n",
    "if luas_lingkaran_7cm > luas_persegi_10cm:\n",
    "    print(\"Luas lingkaran dengan jari-jari 7 cm lebih besar dari luas persegi dengan sisi 10 cm.\")\n",
    "elif luas_lingkaran_7cm < luas_persegi_10cm:\n",
    "    print(\"Luas persegi dengan sisi 10 cm lebih besar dari luas lingkaran dengan jari-jari 7 cm.\")\n",
    "else:\n",
    "    print(\"Luas lingkaran dengan jari-jari 7 cm sama dengan luas persegi dengan sisi 10 cm.\")\n"
   ]
  },
  {
   "cell_type": "markdown",
   "metadata": {},
   "source": [
    "Soal 5: Perbandingan Usia\n",
    "Dalam sebuah grup, terdapat tiga orang dengan usia sebagai berikut:\n",
    "Orang A: 25 tahun\n",
    "Orang B: 30 tahun\n",
    "Orang C: 22 tahun\n",
    "Buatlah sebuah fungsi Python yang menerima daftar usia dan mengembalikan usia terbesar dan terkecil. Gunakan fungsi tersebut untuk mencari usia terbesar dan terkecil dalam grup tersebut."
   ]
  },
  {
   "cell_type": "code",
   "execution_count": null,
   "metadata": {},
   "outputs": [],
   "source": [
    "def usia_terbesar_terkecil(daftar_usia):\n",
    "    usia_terbesar = max(daftar_usia)\n",
    "    usia_terkecil = min(daftar_usia)\n",
    "    return usia_terbesar, usia_terkecil\n",
    "\n",
    "# Daftar usia\n",
    "daftar_usia = [25, 30, 22]\n",
    "\n",
    "# Menggunakan fungsi untuk mencari usia terbesar dan terkecil dalam grup\n",
    "usia_terbesar, usia_terkecil = usia_terbesar_terkecil(daftar_usia)\n",
    "\n",
    "# Mencetak hasil\n",
    "print(f\"Usia terbesar dalam grup adalah: {usia_terbesar} tahun\")\n",
    "print(f\"Usia terkecil dalam grup adalah: {usia_terkecil} tahun\")\n"
   ]
  }
 ],
 "metadata": {
  "kernelspec": {
   "display_name": "Python 3",
   "language": "python",
   "name": "python3"
  },
  "language_info": {
   "codemirror_mode": {
    "name": "ipython",
    "version": 3
   },
   "file_extension": ".py",
   "mimetype": "text/x-python",
   "name": "python",
   "nbconvert_exporter": "python",
   "pygments_lexer": "ipython3",
   "version": "3.12.2"
  }
 },
 "nbformat": 4,
 "nbformat_minor": 2
}
